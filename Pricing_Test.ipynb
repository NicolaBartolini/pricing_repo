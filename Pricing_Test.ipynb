{
 "cells": [
  {
   "cell_type": "code",
   "execution_count": 1,
   "id": "d0971748-7677-4412-bc96-a67fecd3a9e5",
   "metadata": {},
   "outputs": [],
   "source": [
    "import numpy as np \n",
    "from Option_lib import * \n",
    "from Stochastic_processes import GBM, Heston93, Bates, VarianceGamma\n",
    "from time import time\n",
    "from datetime import datetime"
   ]
  },
  {
   "cell_type": "markdown",
   "id": "59436b8f-42e5-45e2-bd5d-4d4e6296b80d",
   "metadata": {},
   "source": [
    "### Pricing with the Geometric Brownian Motion\n",
    "\n",
    "$$\n",
    "\\begin{split}\n",
    "   &  dS_t = rS_t dt + \\sigma S_t dW_t^Q \\\\\n",
    "   & S_T = S_t\\exp\\left\\{\\left(r -\\frac{\\sigma^2}{2}\\right)(T-t) + \\sigma(W_T^Q-W_t^Q)\\right\\}\n",
    "\\end{split}\n",
    "$$\n",
    "\n",
    "Let's comapare the pricing functions (Monte-Carlo, Fourier and analytic Black-Scholes-Merton) for the European call options "
   ]
  },
  {
   "cell_type": "code",
   "execution_count": 2,
   "id": "55eecfdf-98ee-412d-943b-be741e566398",
   "metadata": {},
   "outputs": [],
   "source": [
    "# Parameters  \n",
    "\n",
    "np.random.seed(1)\n",
    "\n",
    "r = 0.0\n",
    "sigma = 0.2\n",
    "\n",
    "T = 1 # Option maturity \n",
    "n_steps = 252 # steps = number of trading days\n",
    "\n",
    "S0 = 90\n",
    "K = 100\n",
    "\n",
    "# creating the object\n",
    "\n",
    "gbm_model = GBM(mu=r, sigma=sigma)"
   ]
  },
  {
   "cell_type": "code",
   "execution_count": 3,
   "id": "a1fc18d6-6ecd-4fe4-a17e-182a9eeef86d",
   "metadata": {},
   "outputs": [
    {
     "name": "stdout",
     "output_type": "stream",
     "text": [
      "[90.         89.99966063 89.99898587 89.99964566 90.00046348 90.00093573\n",
      " 90.0035642  90.0058688  90.00414928 90.00408745 90.00122141]\n"
     ]
    }
   ],
   "source": [
    "# Martingale check for the GBM\n",
    "\n",
    "trj = gbm_model.simulate(S0, T, 10, 20)\n",
    "print(np.mean(trj, axis=1))"
   ]
  },
  {
   "cell_type": "code",
   "execution_count": 4,
   "id": "6cd17c10-5e13-4e5b-9f05-351b9af1cfae",
   "metadata": {},
   "outputs": [
    {
     "name": "stdout",
     "output_type": "stream",
     "text": [
      "European call\n",
      "\n",
      "Exact formula    :   3.589108\n",
      "Damping formula  :   3.589108\n",
      "COS formula      :   3.589108\n",
      "Monte-Carlo      :   3.586372\n"
     ]
    }
   ],
   "source": [
    "# Pricing European call\n",
    "eurocall_BS = gbm_model.BS_call_price(S0, K, T)\n",
    "eurocall_damp = gbm_model.Fourier_call_pricing(S0, K, T) # Fourier pricing, damping method \n",
    "eurocall_cos = gbm_model.cos_pricing(S0, K, T, 'call') \n",
    "eurocall_mc = EuropeanOption(gbm_model.simulate(S0, T, n_steps, 20)[-1], K, T, r, 1)\n",
    "\n",
    "print('European call\\n')\n",
    "print(f\"Exact formula    : {eurocall_BS:>10.6f}\")\n",
    "print(f\"Damping formula  : {eurocall_damp:>10.6f}\")\n",
    "print(f\"COS formula      : {eurocall_cos:>10.6f}\")\n",
    "print(f\"Monte-Carlo      : {eurocall_mc:>10.6f}\")"
   ]
  },
  {
   "cell_type": "code",
   "execution_count": 5,
   "id": "f556e88a-3a26-4050-a4cd-9685419626a6",
   "metadata": {},
   "outputs": [
    {
     "name": "stdout",
     "output_type": "stream",
     "text": [
      "Bermudan call (LS)      :   3.573501\n",
      "Bermudan put  (LS)      :  13.578266\n"
     ]
    }
   ],
   "source": [
    "# Pricing Bermudan call option\n",
    "n = 17\n",
    "exercise_date = [0, 1/3, 2/3, 1] # exercise dates\n",
    "\n",
    "St = gbm_model.simulate(S0, T, 3, n)\n",
    "                   \n",
    "bermudan_call_ls = AmericanOption(St, K, r, T, exercise_date, 1, 3)\n",
    "bermudan_put_ls = AmericanOption(St, K, r, T, exercise_date, -1, 3)\n",
    "\n",
    "print(f\"Bermudan call (LS)      : {bermudan_call_ls:>10.6f}\")\n",
    "print(f\"Bermudan put  (LS)      : {bermudan_put_ls:>10.6f}\")"
   ]
  },
  {
   "cell_type": "markdown",
   "id": "84fbc448-ddb9-4797-9811-72d7ddfbcaec",
   "metadata": {},
   "source": [
    "### Pricing with the Heston model \n",
    "\n",
    "$$\n",
    "\\begin{split}\n",
    "   &  dS_t = rS_t dt + \\sqrt{\\nu_t} S_t dW_{1,t}^Q \\\\\n",
    "   & S_T = S_t\\exp\\left\\{\\left(r(T-t) -\\int_t^{T}\\frac{\\nu_s}{2}ds\\right) + \\int_t^T\\sqrt{\\nu_t}dW_s^Q\\right\\} \\\\\n",
    "   & d\\nu_t = k(\\theta -\\nu_t)dt + \\sqrt{\\nu_t}dW_{2,t}^Q \\\\\n",
    "   & E[dW_{1,t}^QdW_{2,t}^Q] = \\rho dt \n",
    "\\end{split}\n",
    "$$\n",
    "\n",
    "Let's comapare the pricing functions (Monte-Carlo and Fourier methods) for the European call options "
   ]
  },
  {
   "cell_type": "code",
   "execution_count": 6,
   "id": "118a3ce3-01bb-4457-849d-8be460b922ca",
   "metadata": {},
   "outputs": [],
   "source": [
    "k = 1.5;             # speed of mean reversion of the vol process\n",
    "theta = 0.04;        # long run memory of the vol process\n",
    "nu0 = 0.04;          # initial value of the vol process\n",
    "sigma = .2;          # diffusion parameter of the vol process\n",
    "rho = -0.1;          # correlation of the Brownians (leverage effect)\n",
    "\n",
    "N = 20\n",
    "\n",
    "heston93_model = Heston93(r, k, theta, sigma, rho)"
   ]
  },
  {
   "cell_type": "code",
   "execution_count": 7,
   "id": "c5b264b0-2a09-4d35-acab-564dc776f9c9",
   "metadata": {},
   "outputs": [
    {
     "name": "stdout",
     "output_type": "stream",
     "text": [
      "Elapsed time:   7.147078\n",
      "\n",
      "[90.         89.9916304  89.98447911 89.98774845 89.98528824 89.9884951\n",
      " 89.98011452 89.98638063 89.9791883  89.98246405 89.98614645]\n"
     ]
    }
   ],
   "source": [
    "start = time()\n",
    "Xt, nut = heston93_model.simulate(S0, nu0, T, 10, N, .5, .5, 'andersen');\n",
    "end = time()\n",
    "print(f'Elapsed time: {end-start:>10.6f}\\n')\n",
    "print(np.mean(Xt, axis=1))"
   ]
  },
  {
   "cell_type": "code",
   "execution_count": 8,
   "id": "3242fc7a-c409-4b95-94f7-7e25cafbeb41",
   "metadata": {},
   "outputs": [
    {
     "name": "stdout",
     "output_type": "stream",
     "text": [
      "Elapsed time:   3.033953\n",
      "\n",
      "Damping formula  :   3.453119\n",
      "COS formula      :   3.453177\n",
      "Monte-Carlo      :   3.550271\n"
     ]
    }
   ],
   "source": [
    "# Call pricing\n",
    "start = time()\n",
    "mc_heston93_call =  EuropeanOption(heston93_model.simulate(S0, nu0, T, n_steps, 16)[0][-1], K, T, r, 1)\n",
    "fourier_heston93_call = heston93_model.Fourier_call_pricing(K, T, S0, nu0)\n",
    "cos_heston93_call = heston93_model.cos_pricing(S0, nu0, K, T, 'call')\n",
    "end = time()\n",
    "print(f'Elapsed time: {end-start:>10.6f}\\n')\n",
    "\n",
    "print(f\"Damping formula  : {fourier_heston93_call:>10.6f}\")\n",
    "print(f\"COS formula      : {cos_heston93_call:>10.6f}\")\n",
    "print(f\"Monte-Carlo      : {mc_heston93_call:>10.6f}\")"
   ]
  },
  {
   "cell_type": "code",
   "execution_count": 9,
   "id": "8b86cdda-e9bb-4662-ad3f-f43f6bead038",
   "metadata": {},
   "outputs": [
    {
     "name": "stdout",
     "output_type": "stream",
     "text": [
      "Bermudan call (LS)      :   3.496331\n",
      "Bermudan put  (LS)      :  13.475840\n"
     ]
    }
   ],
   "source": [
    "# Pricing Bermudan call option\n",
    "n = 17\n",
    "exercise_date = [0, 1/3, 2/3, 1] # exercise dates\n",
    "\n",
    "St, nut = heston93_model.simulate(S0, nu0, T, n_steps, n)\n",
    "Xt = select_exercise_prices(St, exercise_date, len(St))\n",
    "\n",
    "bermudan_call_ls = AmericanOption(Xt, K, r, T, exercise_date, 1, 3)\n",
    "bermudan_put_ls = AmericanOption(Xt, K, r, T, exercise_date, -1, 3)\n",
    "\n",
    "print(f\"Bermudan call (LS)      : {bermudan_call_ls:>10.6f}\")\n",
    "print(f\"Bermudan put  (LS)      : {bermudan_put_ls:>10.6f}\")"
   ]
  },
  {
   "cell_type": "code",
   "execution_count": 10,
   "id": "05635d1b-ee2f-4d8f-8382-c4e06de73f48",
   "metadata": {},
   "outputs": [],
   "source": [
    "# Let's see how to do a calibration (on prices)\n",
    "\n",
    "maturities = np.array([21/252, 42/252, 63/252, 84/252, 126/252])\n",
    "strikes = np.arange(.9, 1.125, step=.025, ) * K"
   ]
  },
  {
   "cell_type": "code",
   "execution_count": 11,
   "id": "0693f217-b6cf-476a-bdf8-d45a0a286e6a",
   "metadata": {},
   "outputs": [],
   "source": [
    "today = datetime.today()\n",
    "data = np.empty((len(maturities), len(strikes)))\n",
    "mkt_data = []\n",
    "Options = Time_series_derivatives()\n",
    "\n",
    "i=0\n",
    "j=0 \n",
    "\n",
    "for T in maturities:\n",
    "    for K in strikes:\n",
    "        cos_call_price = heston93_model.cos_pricing(S0, nu0, K, T, 'call', 50)\n",
    "        data[i,j] = cos_call_price\n",
    "        \n",
    "        mkt_data.append([cos_call_price, S0, K, T, 'C'])\n",
    "        options = VanillaOption(market_price=cos_call_price,\n",
    "                                strike_price=K,\n",
    "                                time_to_maturity=T,\n",
    "                                typology='C',\n",
    "                                style='E',\n",
    "                                trading_date=today,\n",
    "                                underlying_price=S0)\n",
    "        \n",
    "        Options.add_contract(options, today)\n",
    "        \n",
    "        j += 1 \n",
    "    j=0 \n",
    "    i+=1\n",
    "\n"
   ]
  },
  {
   "cell_type": "code",
   "execution_count": 15,
   "id": "0abbfff4-b07a-4180-b44f-f6a52ac80866",
   "metadata": {},
   "outputs": [
    {
     "name": "stdout",
     "output_type": "stream",
     "text": [
      "Elapsed time: 251.351223\n"
     ]
    }
   ],
   "source": [
    "# Let's perfom the calibration\n",
    "\n",
    "params = np.array([k, theta, sigma, 0, nu0]) * 1.5\n",
    "\n",
    "fitted_heston = Heston93(r)\n",
    "\n",
    "start = time()\n",
    "res = fitted_heston.calibrate(params, Options)\n",
    "end = time()\n",
    "print(f'Elapsed time: {end-start:>10.6f}')"
   ]
  },
  {
   "cell_type": "code",
   "execution_count": 16,
   "id": "7fe84f51-7b17-4c78-9e5c-885fa611904e",
   "metadata": {},
   "outputs": [
    {
     "data": {
      "text/html": [
       "<div>\n",
       "<style scoped>\n",
       "    .dataframe tbody tr th:only-of-type {\n",
       "        vertical-align: middle;\n",
       "    }\n",
       "\n",
       "    .dataframe tbody tr th {\n",
       "        vertical-align: top;\n",
       "    }\n",
       "\n",
       "    .dataframe thead th {\n",
       "        text-align: right;\n",
       "    }\n",
       "</style>\n",
       "<table border=\"1\" class=\"dataframe\">\n",
       "  <thead>\n",
       "    <tr style=\"text-align: right;\">\n",
       "      <th></th>\n",
       "      <th>params</th>\n",
       "      <th>gradient</th>\n",
       "    </tr>\n",
       "  </thead>\n",
       "  <tbody>\n",
       "    <tr>\n",
       "      <th>k</th>\n",
       "      <td>2.252988</td>\n",
       "      <td>0.000043</td>\n",
       "    </tr>\n",
       "    <tr>\n",
       "      <th>theta</th>\n",
       "      <td>0.039705</td>\n",
       "      <td>-0.000153</td>\n",
       "    </tr>\n",
       "    <tr>\n",
       "      <th>sigma</th>\n",
       "      <td>0.218240</td>\n",
       "      <td>0.000011</td>\n",
       "    </tr>\n",
       "    <tr>\n",
       "      <th>rho</th>\n",
       "      <td>-0.097446</td>\n",
       "      <td>-0.000001</td>\n",
       "    </tr>\n",
       "    <tr>\n",
       "      <th>nu0</th>\n",
       "      <td>0.040099</td>\n",
       "      <td>-0.001314</td>\n",
       "    </tr>\n",
       "  </tbody>\n",
       "</table>\n",
       "</div>"
      ],
      "text/plain": [
       "         params  gradient\n",
       "k      2.252988  0.000043\n",
       "theta  0.039705 -0.000153\n",
       "sigma  0.218240  0.000011\n",
       "rho   -0.097446 -0.000001\n",
       "nu0    0.040099 -0.001314"
      ]
     },
     "execution_count": 16,
     "metadata": {},
     "output_type": "execute_result"
    }
   ],
   "source": [
    "res.params"
   ]
  },
  {
   "cell_type": "code",
   "execution_count": 17,
   "id": "a5849bcd-00a1-4aa9-972a-59fd520002ab",
   "metadata": {},
   "outputs": [
    {
     "data": {
      "text/plain": [
       "2.231811970854637e-05"
      ]
     },
     "execution_count": 17,
     "metadata": {},
     "output_type": "execute_result"
    }
   ],
   "source": [
    "res.fun"
   ]
  },
  {
   "cell_type": "code",
   "execution_count": null,
   "id": "ec15d862-e704-4190-97bb-59df78b5e3f6",
   "metadata": {},
   "outputs": [],
   "source": []
  }
 ],
 "metadata": {
  "kernelspec": {
   "display_name": "Python 3 (ipykernel)",
   "language": "python",
   "name": "python3"
  },
  "language_info": {
   "codemirror_mode": {
    "name": "ipython",
    "version": 3
   },
   "file_extension": ".py",
   "mimetype": "text/x-python",
   "name": "python",
   "nbconvert_exporter": "python",
   "pygments_lexer": "ipython3",
   "version": "3.10.13"
  }
 },
 "nbformat": 4,
 "nbformat_minor": 5
}
